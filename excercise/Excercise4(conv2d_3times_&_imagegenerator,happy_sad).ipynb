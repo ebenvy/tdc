{
  "nbformat": 4,
  "nbformat_minor": 0,
  "metadata": {
    "colab": {
      "name": "Excercise4(conv2d 3times & imagegenerator,happy-sad).ipynb",
      "provenance": [],
      "collapsed_sections": [],
      "authorship_tag": "ABX9TyPU2/c+13e8SsRxNHgviajp",
      "include_colab_link": true
    },
    "kernelspec": {
      "name": "python3",
      "display_name": "Python 3"
    }
  },
  "cells": [
    {
      "cell_type": "markdown",
      "metadata": {
        "id": "view-in-github",
        "colab_type": "text"
      },
      "source": [
        "<a href=\"https://colab.research.google.com/github/ebenvy/tdc/blob/master/excercise/Excercise4(conv2d_3times_%26_imagegenerator%2Chappy_sad).ipynb\" target=\"_parent\"><img src=\"https://colab.research.google.com/assets/colab-badge.svg\" alt=\"Open In Colab\"/></a>"
      ]
    },
    {
      "cell_type": "code",
      "metadata": {
        "id": "X76ONAGzwbY-",
        "colab_type": "code",
        "colab": {}
      },
      "source": [
        ""
      ],
      "execution_count": null,
      "outputs": []
    },
    {
      "cell_type": "markdown",
      "metadata": {
        "id": "o2iaKE7fwf8v",
        "colab_type": "text"
      },
      "source": [
        "\n",
        "Below is code with a link to a happy or sad dataset which contains 80 images, 40 happy and 40 sad. \n",
        "Create a convolutional neural network that trains to 100% accuracy on these images, which cancels training upon hitting training accuracy of >.999\n",
        "\n",
        "Hint -- it will work best with 3 convolutional layers."
      ]
    },
    {
      "cell_type": "markdown",
      "metadata": {
        "id": "BKRwyWFQw0X-",
        "colab_type": "text"
      },
      "source": [
        "question"
      ]
    },
    {
      "cell_type": "code",
      "metadata": {
        "id": "yiieZPqNwqSN",
        "colab_type": "code",
        "colab": {}
      },
      "source": [
        "import tensorflow as tf\n",
        "import os\n",
        "import zipfile\n",
        "\n",
        "\n",
        "DESIRED_ACCURACY = 0.999\n",
        "\n",
        "!wget --no-check-certificate \\\n",
        "    \"https://storage.googleapis.com/laurencemoroney-blog.appspot.com/happy-or-sad.zip\" \\\n",
        "    -O \"/tmp/happy-or-sad.zip\"\n",
        "\n",
        "zip_ref = zipfile.ZipFile(\"/tmp/happy-or-sad.zip\", 'r')\n",
        "zip_ref.extractall(\"/tmp/h-or-s\")\n",
        "zip_ref.close()\n",
        "\n",
        "class myCallback(# Your Code):\n",
        "  # Your Code\n",
        "\n",
        "callbacks = myCallback()"
      ],
      "execution_count": null,
      "outputs": []
    },
    {
      "cell_type": "code",
      "metadata": {
        "id": "4qNQRLTBw-xj",
        "colab_type": "code",
        "colab": {}
      },
      "source": [
        "# This Code Block should Define and Compile the Model\n",
        "model = tf.keras.models.Sequential([\n",
        "# Your Code Here\n",
        "])\n",
        "\n",
        "from tensorflow.keras.optimizers import RMSprop\n",
        "\n",
        "model.compile(# Your Code Here #)"
      ],
      "execution_count": null,
      "outputs": []
    },
    {
      "cell_type": "code",
      "metadata": {
        "id": "LjANn6hfxByw",
        "colab_type": "code",
        "colab": {}
      },
      "source": [
        "\n",
        "# This code block should create an instance of an ImageDataGenerator called train_datagen \n",
        "# And a train_generator by calling train_datagen.flow_from_directory\n",
        "\n",
        "from tensorflow.keras.preprocessing.image import ImageDataGenerator\n",
        "\n",
        "train_datagen = # Your Code Here\n",
        "\n",
        "train_generator = train_datagen.flow_from_directory(\n",
        "        # Your Code Here)\n",
        "\n",
        "# Expected output: 'Found 80 images belonging to 2 classes'"
      ],
      "execution_count": null,
      "outputs": []
    },
    {
      "cell_type": "code",
      "metadata": {
        "id": "sd01zKX3xExW",
        "colab_type": "code",
        "colab": {}
      },
      "source": [
        "\n",
        "# This code block should call model.fit and train for\n",
        "# a number of epochs. \n",
        "history = model.fit(\n",
        "      # Your Code Here)\n",
        "    \n",
        "# Expected output: \"Reached 99.9% accuracy so cancelling training!\"\""
      ],
      "execution_count": null,
      "outputs": []
    },
    {
      "cell_type": "markdown",
      "metadata": {
        "id": "paY7-mY8xF3C",
        "colab_type": "text"
      },
      "source": [
        "answer"
      ]
    },
    {
      "cell_type": "code",
      "metadata": {
        "id": "i1rDvpacxJWE",
        "colab_type": "code",
        "colab": {
          "base_uri": "https://localhost:8080/",
          "height": 210
        },
        "outputId": "787706cd-97d7-4b07-da7e-609c19180892"
      },
      "source": [
        "import tensorflow as tf\n",
        "import os\n",
        "import zipfile\n",
        "\n",
        "\n",
        "DESIRED_ACCURACY = 0.999\n",
        "\n",
        "!wget --no-check-certificate \\\n",
        "    \"https://storage.googleapis.com/laurencemoroney-blog.appspot.com/happy-or-sad.zip\" \\\n",
        "    -O \"/tmp/happy-or-sad.zip\"\n",
        "\n",
        "zip_ref = zipfile.ZipFile(\"/tmp/happy-or-sad.zip\", 'r')\n",
        "zip_ref.extractall(\"/tmp/h-or-s\")\n",
        "zip_ref.close()\n",
        "\n",
        "class myCallback(tf.keras.callbacks.Callback):\n",
        "  def on_epoch_end(self,epoch, logs=None):\n",
        "    if logs[\"accuracy\"] >DESIRED_ACCURACY:\n",
        "      print(\"Reached 99.9% accuracy so cancelling training!\")\n",
        "      self.model.stop_training= True\n",
        "\n",
        "    \n",
        "\n",
        "callbacks = myCallback()"
      ],
      "execution_count": 32,
      "outputs": [
        {
          "output_type": "stream",
          "text": [
            "--2020-07-19 07:53:15--  https://storage.googleapis.com/laurencemoroney-blog.appspot.com/happy-or-sad.zip\n",
            "Resolving storage.googleapis.com (storage.googleapis.com)... 74.125.142.128, 74.125.195.128, 2607:f8b0:400e:c00::80, ...\n",
            "Connecting to storage.googleapis.com (storage.googleapis.com)|74.125.142.128|:443... connected.\n",
            "HTTP request sent, awaiting response... 200 OK\n",
            "Length: 2670333 (2.5M) [application/zip]\n",
            "Saving to: ‘/tmp/happy-or-sad.zip’\n",
            "\n",
            "\r/tmp/happy-or-sad.z   0%[                    ]       0  --.-KB/s               \r/tmp/happy-or-sad.z 100%[===================>]   2.55M  --.-KB/s    in 0.01s   \n",
            "\n",
            "2020-07-19 07:53:15 (238 MB/s) - ‘/tmp/happy-or-sad.zip’ saved [2670333/2670333]\n",
            "\n"
          ],
          "name": "stdout"
        }
      ]
    },
    {
      "cell_type": "code",
      "metadata": {
        "id": "KxG7Lv4Q6B4X",
        "colab_type": "code",
        "colab": {}
      },
      "source": [
        "# This Code Block should Define and Compile the Model\n",
        "model = tf.keras.models.Sequential([\n",
        "  tf.keras.layers.Conv2D(32, (3,3), activation='relu', input_shape=(150, 150, 3)),\n",
        "  tf.keras.layers.MaxPooling2D(2, 2),\n",
        "  tf.keras.layers.Conv2D(32, (3,3), activation='relu'),\n",
        "  tf.keras.layers.MaxPooling2D(2, 2),\n",
        "  tf.keras.layers.Conv2D(32, (3,3), activation='relu'),\n",
        "  tf.keras.layers.MaxPooling2D(2, 2),\n",
        "  tf.keras.layers.Flatten(),\n",
        "  tf.keras.layers.Dense(128, activation='relu'),\n",
        "  tf.keras.layers.Dense(2, activation='softmax')\n",
        "])\n",
        "\n",
        "from tensorflow.keras.optimizers import RMSprop\n",
        "\n",
        "model.compile(optimizer= RMSprop(lr=0.001),loss='binary_crossentropy',metrics=['accuracy'])"
      ],
      "execution_count": 33,
      "outputs": []
    },
    {
      "cell_type": "code",
      "metadata": {
        "id": "6WlEnAGz6I7L",
        "colab_type": "code",
        "colab": {
          "base_uri": "https://localhost:8080/",
          "height": 34
        },
        "outputId": "67beff66-42df-48c7-a5b3-eebcfc2bf1c1"
      },
      "source": [
        "\n",
        "# This code block should create an instance of an ImageDataGenerator called train_datagen \n",
        "# And a train_generator by calling train_datagen.flow_from_directory\n",
        "\n",
        "from tensorflow.keras.preprocessing.image import ImageDataGenerator\n",
        "\n",
        "train_datagen = ImageDataGenerator(rescale=1./255)\n",
        "\n",
        "train_generator = train_datagen.flow_from_directory('/tmp/h-or-s',target_size=(150,150))\n",
        "\n",
        "# Expected output: 'Found 80 images belonging to 2 classes'"
      ],
      "execution_count": 34,
      "outputs": [
        {
          "output_type": "stream",
          "text": [
            "Found 80 images belonging to 2 classes.\n"
          ],
          "name": "stdout"
        }
      ]
    },
    {
      "cell_type": "code",
      "metadata": {
        "id": "_ed3kghZ7Gfi",
        "colab_type": "code",
        "colab": {
          "base_uri": "https://localhost:8080/",
          "height": 422
        },
        "outputId": "809b6449-6dec-40e5-ab84-6d296cfa1e3a"
      },
      "source": [
        "\n",
        "# This code block should call model.fit and train for\n",
        "# a number of epochs. \n",
        "history = model.fit(train_generator,callbacks=[callbacks], epochs=15)\n",
        "      # Your Code Here)\n",
        "    \n",
        "# Expected output: \"Reached 99.9% accuracy so cancelling training!\"\""
      ],
      "execution_count": 35,
      "outputs": [
        {
          "output_type": "stream",
          "text": [
            "Epoch 1/15\n",
            "3/3 [==============================] - 2s 502ms/step - loss: 2.2140 - accuracy: 0.4750\n",
            "Epoch 2/15\n",
            "3/3 [==============================] - 1s 498ms/step - loss: 0.6662 - accuracy: 0.5375\n",
            "Epoch 3/15\n",
            "3/3 [==============================] - 1s 499ms/step - loss: 0.5998 - accuracy: 0.8000\n",
            "Epoch 4/15\n",
            "3/3 [==============================] - 2s 501ms/step - loss: 0.4998 - accuracy: 0.7500\n",
            "Epoch 5/15\n",
            "3/3 [==============================] - 1s 498ms/step - loss: 0.5850 - accuracy: 0.5000\n",
            "Epoch 6/15\n",
            "3/3 [==============================] - 1s 379ms/step - loss: 0.3679 - accuracy: 0.8750\n",
            "Epoch 7/15\n",
            "3/3 [==============================] - 1s 382ms/step - loss: 0.3316 - accuracy: 0.8750\n",
            "Epoch 8/15\n",
            "3/3 [==============================] - 1s 382ms/step - loss: 0.1412 - accuracy: 0.9875\n",
            "Epoch 9/15\n",
            "3/3 [==============================] - 1s 384ms/step - loss: 0.1219 - accuracy: 0.9500\n",
            "Epoch 10/15\n",
            "3/3 [==============================] - 1s 376ms/step - loss: 0.1227 - accuracy: 0.9625\n",
            "Epoch 11/15\n",
            "3/3 [==============================] - ETA: 0s - loss: 0.0648 - accuracy: 1.0000Reached 99.9% accuracy so cancelling training!\n",
            "3/3 [==============================] - 1s 380ms/step - loss: 0.0648 - accuracy: 1.0000\n"
          ],
          "name": "stdout"
        }
      ]
    },
    {
      "cell_type": "markdown",
      "metadata": {
        "id": "OVqIYW9O6Avo",
        "colab_type": "text"
      },
      "source": [
        "ImageGenerator\n",
        "https://www.tensorflow.org/api_docs/python/tf/keras/preprocessing/image/ImageDataGenerator"
      ]
    }
  ]
}